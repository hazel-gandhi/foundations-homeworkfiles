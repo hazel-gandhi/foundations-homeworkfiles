{
 "cells": [
  {
   "cell_type": "code",
   "execution_count": 1,
   "id": "48954116-32d8-4362-b0d2-613c7142cb2c",
   "metadata": {},
   "outputs": [
    {
     "name": "stdout",
     "output_type": "stream",
     "text": [
      "{\"data\":{\"time\":\"2024-11-08T00:26:00Z\",\"values\":{\"cloudBase\":null,\"cloudCeiling\":null,\"cloudCover\":0,\"dewPoint\":17.31,\"freezingRainIntensity\":0,\"humidity\":74,\"precipitationProbability\":0,\"pressureSurfaceLevel\":1008.66,\"rainIntensity\":0,\"sleetIntensity\":0,\"snowIntensity\":0,\"temperature\":26.38,\"temperatureApparent\":26.38,\"uvHealthConcern\":0,\"uvIndex\":0,\"visibility\":16,\"weatherCode\":1000,\"windDirection\":45.19,\"windGust\":2.5,\"windSpeed\":2.5}},\"location\":{\"lat\":19.07854461669922,\"lon\":72.878173828125,\"name\":\"Mumbai Suburban, Maharashtra, India\",\"type\":\"administrative\"}}\n"
     ]
    }
   ],
   "source": [
    "import requests\n",
    "\n",
    "url = \"https://api.tomorrow.io/v4/weather/realtime?location=mumbai&apikey=tXlRwvFfq172RPH5OaZGVaaPQWw0uea6\"\n",
    "\n",
    "headers = {\"accept\": \"application/json\"}\n",
    "\n",
    "response = requests.get(url, headers=headers)\n",
    "\n",
    "print(response.text)"
   ]
  },
  {
   "cell_type": "markdown",
   "id": "a1067953-8482-4675-b761-4ef4a85ecb16",
   "metadata": {},
   "source": [
    "Make a request for the current weather where you are born, or somewhere you've lived."
   ]
  },
  {
   "cell_type": "code",
   "execution_count": 2,
   "id": "06c88f43-40c6-4cdb-bc52-0ad7423ecb99",
   "metadata": {},
   "outputs": [
    {
     "data": {
      "text/plain": [
       "{'data': {'time': '2024-11-08T00:26:00Z',\n",
       "  'values': {'cloudBase': None,\n",
       "   'cloudCeiling': None,\n",
       "   'cloudCover': 0,\n",
       "   'dewPoint': 17.31,\n",
       "   'freezingRainIntensity': 0,\n",
       "   'humidity': 74,\n",
       "   'precipitationProbability': 0,\n",
       "   'pressureSurfaceLevel': 1008.66,\n",
       "   'rainIntensity': 0,\n",
       "   'sleetIntensity': 0,\n",
       "   'snowIntensity': 0,\n",
       "   'temperature': 26.38,\n",
       "   'temperatureApparent': 26.38,\n",
       "   'uvHealthConcern': 0,\n",
       "   'uvIndex': 0,\n",
       "   'visibility': 16,\n",
       "   'weatherCode': 1000,\n",
       "   'windDirection': 45.19,\n",
       "   'windGust': 2.5,\n",
       "   'windSpeed': 2.5}},\n",
       " 'location': {'lat': 19.07854461669922,\n",
       "  'lon': 72.878173828125,\n",
       "  'name': 'Mumbai Suburban, Maharashtra, India',\n",
       "  'type': 'administrative'}}"
      ]
     },
     "execution_count": 2,
     "metadata": {},
     "output_type": "execute_result"
    }
   ],
   "source": [
    "data = response.json()\n",
    "data"
   ]
  },
  {
   "cell_type": "markdown",
   "id": "d7abe2ea-4339-40c6-bf75-d3756572edf4",
   "metadata": {},
   "source": [
    "Print out the country this location is in."
   ]
  },
  {
   "cell_type": "code",
   "execution_count": 18,
   "id": "2adce17c-24ca-4d3e-a449-2b097fa127df",
   "metadata": {},
   "outputs": [
    {
     "data": {
      "text/plain": [
       "'Mumbai Suburban, Maharashtra, India'"
      ]
     },
     "execution_count": 18,
     "metadata": {},
     "output_type": "execute_result"
    }
   ],
   "source": [
    "#data.keys()\n",
    "#data['location'].keys()\n",
    "location = data['location']['name']\n",
    "location"
   ]
  },
  {
   "cell_type": "code",
   "execution_count": 17,
   "id": "1d866d3c-80c0-41b7-9919-4cf05d30e2b8",
   "metadata": {},
   "outputs": [
    {
     "data": {
      "text/plain": [
       "'My location is in India'"
      ]
     },
     "execution_count": 17,
     "metadata": {},
     "output_type": "execute_result"
    }
   ],
   "source": [
    "#I was getting the name of the city, state, and country together since they are part of the same value, so I split it using ChatGPT\n",
    "country_name = location.split(\",\")[-1].strip()\n",
    "(f\"My location is in {country_name}\")"
   ]
  },
  {
   "cell_type": "markdown",
   "id": "2a34f5b0-0425-4295-9181-cff4fb061b51",
   "metadata": {},
   "source": [
    "Print out the difference between the current temperature and how warm it feels. Use \"It feels ___ degrees colder\" or \"It feels ___ degrees warmer,\" not negative numbers."
   ]
  },
  {
   "cell_type": "code",
   "execution_count": 28,
   "id": "30682c50-b3ea-4692-9569-80cf7db2d087",
   "metadata": {},
   "outputs": [
    {
     "name": "stdout",
     "output_type": "stream",
     "text": [
      "It feels the same\n"
     ]
    }
   ],
   "source": [
    "#data.keys()\n",
    "#data['data']\n",
    "current_temp = data['data']['values']['temperature']\n",
    "feelslike_temp = data['data']['values']['temperatureApparent']\n",
    "if current_temp > feelslike_temp:\n",
    "    print(f\"It feels {current_temp - feelslike_temp} degrees colder\")\n",
    "elif current_temp < feelslike_temp:\n",
    "    print(f\"It feels {current_temp - feelslike_temp} degrees warmer\")\n",
    "else:\n",
    "    print(f\"It feels the same\")"
   ]
  },
  {
   "cell_type": "markdown",
   "id": "20f73fbc-5001-458a-b0fe-1ad8da6670e3",
   "metadata": {},
   "source": [
    "What's the current temperature at Heathrow International Airport? Use the airport's IATA code to search."
   ]
  },
  {
   "cell_type": "code",
   "execution_count": 40,
   "id": "73e44798-3567-4f57-9f4e-e2b71497de0d",
   "metadata": {},
   "outputs": [
    {
     "name": "stdout",
     "output_type": "stream",
     "text": [
      "The current temperature at Heathrow International Airport is 9.69 degress\n"
     ]
    }
   ],
   "source": [
    "#url = \"https://api.tomorrow.io/v4/weather/realtime?location=TW6&apikey=tXlRwvFfq172RPH5OaZGVaaPQWw0uea6\" \n",
    "#source for heathrow intl airport zipcode: https://www.military-airshows.co.uk/airports/heathrow-airport.htm#:~:text=Getting%20to%20London%20Heathrow%20Airport&text=Sat%20Nav%20postcodes%20are%20as,Terminal%205%20(TW6%202GA).\n",
    "\n",
    "#response = requests.get(url, headers=headers)\n",
    "#print(response.text)\n",
    "#data = response.json()\n",
    "#data\n",
    "\n",
    "current_temp_lhr = data['data']['values']['temperature']\n",
    "print(f\"The current temperature at Heathrow International Airport is {current_temp_lhr} degress\")\n"
   ]
  },
  {
   "cell_type": "markdown",
   "id": "08b06cb6-c569-436d-bdd9-4a5ab066ae3b",
   "metadata": {},
   "source": [
    "What URL would I use to request a 3-day forecast at Heathrow?"
   ]
  },
  {
   "cell_type": "code",
   "execution_count": 48,
   "id": "9ba12945-5a19-4df3-8bcf-38a83603d184",
   "metadata": {},
   "outputs": [
    {
     "ename": "SyntaxError",
     "evalue": "invalid decimal literal (727628967.py, line 1)",
     "output_type": "error",
     "traceback": [
      "\u001b[0;36m  Cell \u001b[0;32mIn[48], line 1\u001b[0;36m\u001b[0m\n\u001b[0;31m    url = \"\"https://api.tomorrow.io/v4/timelines?location=TW6&fields=temperature&units=metric&timesteps=+3d&startTime=now&endTime=nowPlus6h&apikey=tXlRwvFfq172RPH5OaZGVaaPQWw0uea6\"\"\u001b[0m\n\u001b[0m                                                                                                         ^\u001b[0m\n\u001b[0;31mSyntaxError\u001b[0m\u001b[0;31m:\u001b[0m invalid decimal literal\n"
     ]
    }
   ],
   "source": [
    "url = \"\"https://api.tomorrow.io/v4/timelines?location=TW6&fields=temperature&units=metric&timesteps=3d&startTime=now&endTime=nowPlus6h&apikey=tXlRwvFfq172RPH5OaZGVaaPQWw0uea6\"\"\n",
    "\n",
    "response = requests.get(url)\n",
    "response"
   ]
  },
  {
   "cell_type": "markdown",
   "id": "c46d3d25-e776-46e2-9a54-b41aa4738c94",
   "metadata": {},
   "source": [
    "Print the date of each of the 3 days you're getting a forecast for."
   ]
  },
  {
   "cell_type": "markdown",
   "id": "78fa2472-6f79-45a0-8ec0-687a694468ee",
   "metadata": {},
   "source": [
    "Print the maximum temperature of each of the days."
   ]
  },
  {
   "cell_type": "markdown",
   "id": "f8466ae4-e110-436c-9d3a-beeb5b9abc4c",
   "metadata": {},
   "source": [
    "Print only the day with the highest maximum temperature."
   ]
  }
 ],
 "metadata": {
  "kernelspec": {
   "display_name": "Python 3 (ipykernel)",
   "language": "python",
   "name": "python3"
  },
  "language_info": {
   "codemirror_mode": {
    "name": "ipython",
    "version": 3
   },
   "file_extension": ".py",
   "mimetype": "text/x-python",
   "name": "python",
   "nbconvert_exporter": "python",
   "pygments_lexer": "ipython3",
   "version": "3.12.7"
  }
 },
 "nbformat": 4,
 "nbformat_minor": 5
}
