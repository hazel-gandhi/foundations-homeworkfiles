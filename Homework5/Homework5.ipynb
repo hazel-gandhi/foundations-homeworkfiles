{
 "cells": [
  {
   "cell_type": "code",
   "execution_count": 2,
   "id": "48954116-32d8-4362-b0d2-613c7142cb2c",
   "metadata": {},
   "outputs": [
    {
     "name": "stdout",
     "output_type": "stream",
     "text": [
      "{\"data\":{\"time\":\"2024-11-10T16:37:00Z\",\"values\":{\"cloudBase\":null,\"cloudCeiling\":null,\"cloudCover\":0,\"dewPoint\":18.81,\"freezingRainIntensity\":0,\"humidity\":67,\"precipitationProbability\":0,\"pressureSurfaceLevel\":1009.85,\"rainIntensity\":0,\"sleetIntensity\":0,\"snowIntensity\":0,\"temperature\":28.69,\"temperatureApparent\":31.56,\"uvHealthConcern\":0,\"uvIndex\":0,\"visibility\":16,\"weatherCode\":1000,\"windDirection\":8.31,\"windGust\":1.81,\"windSpeed\":0}},\"location\":{\"lat\":19.07854461669922,\"lon\":72.878173828125,\"name\":\"Mumbai Suburban, Maharashtra, India\",\"type\":\"administrative\"}}\n"
     ]
    }
   ],
   "source": [
    "import requests\n",
    "\n",
    "url = \"https://api.tomorrow.io/v4/weather/realtime?location=mumbai&apikey=tXlRwvFfq172RPH5OaZGVaaPQWw0uea6\"\n",
    "\n",
    "headers = {\"accept\": \"application/json\"}\n",
    "\n",
    "response = requests.get(url, headers=headers)\n",
    "\n",
    "print(response.text)"
   ]
  },
  {
   "cell_type": "markdown",
   "id": "a1067953-8482-4675-b761-4ef4a85ecb16",
   "metadata": {},
   "source": [
    "Make a request for the current weather where you are born, or somewhere you've lived."
   ]
  },
  {
   "cell_type": "code",
   "execution_count": 3,
   "id": "06c88f43-40c6-4cdb-bc52-0ad7423ecb99",
   "metadata": {},
   "outputs": [
    {
     "data": {
      "text/plain": [
       "{'data': {'time': '2024-11-10T16:37:00Z',\n",
       "  'values': {'cloudBase': None,\n",
       "   'cloudCeiling': None,\n",
       "   'cloudCover': 0,\n",
       "   'dewPoint': 18.81,\n",
       "   'freezingRainIntensity': 0,\n",
       "   'humidity': 67,\n",
       "   'precipitationProbability': 0,\n",
       "   'pressureSurfaceLevel': 1009.85,\n",
       "   'rainIntensity': 0,\n",
       "   'sleetIntensity': 0,\n",
       "   'snowIntensity': 0,\n",
       "   'temperature': 28.69,\n",
       "   'temperatureApparent': 31.56,\n",
       "   'uvHealthConcern': 0,\n",
       "   'uvIndex': 0,\n",
       "   'visibility': 16,\n",
       "   'weatherCode': 1000,\n",
       "   'windDirection': 8.31,\n",
       "   'windGust': 1.81,\n",
       "   'windSpeed': 0}},\n",
       " 'location': {'lat': 19.07854461669922,\n",
       "  'lon': 72.878173828125,\n",
       "  'name': 'Mumbai Suburban, Maharashtra, India',\n",
       "  'type': 'administrative'}}"
      ]
     },
     "execution_count": 3,
     "metadata": {},
     "output_type": "execute_result"
    }
   ],
   "source": [
    "data = response.json()\n",
    "data"
   ]
  },
  {
   "cell_type": "markdown",
   "id": "d7abe2ea-4339-40c6-bf75-d3756572edf4",
   "metadata": {},
   "source": [
    "Print out the country this location is in."
   ]
  },
  {
   "cell_type": "code",
   "execution_count": 4,
   "id": "2adce17c-24ca-4d3e-a449-2b097fa127df",
   "metadata": {},
   "outputs": [
    {
     "data": {
      "text/plain": [
       "'Mumbai Suburban, Maharashtra, India'"
      ]
     },
     "execution_count": 4,
     "metadata": {},
     "output_type": "execute_result"
    }
   ],
   "source": [
    "#data.keys()\n",
    "#data['location'].keys()\n",
    "location = data['location']['name']\n",
    "location"
   ]
  },
  {
   "cell_type": "code",
   "execution_count": 5,
   "id": "1d866d3c-80c0-41b7-9919-4cf05d30e2b8",
   "metadata": {},
   "outputs": [
    {
     "data": {
      "text/plain": [
       "'My location is in India'"
      ]
     },
     "execution_count": 5,
     "metadata": {},
     "output_type": "execute_result"
    }
   ],
   "source": [
    "#I was getting the name of the city, state, and country together since they are part of the same value, so I split it using ChatGPT\n",
    "country_name = location.split(\",\")[-1].strip()\n",
    "(f\"My location is in {country_name}\")"
   ]
  },
  {
   "cell_type": "markdown",
   "id": "2a34f5b0-0425-4295-9181-cff4fb061b51",
   "metadata": {},
   "source": [
    "Print out the difference between the current temperature and how warm it feels. Use \"It feels ___ degrees colder\" or \"It feels ___ degrees warmer,\" not negative numbers."
   ]
  },
  {
   "cell_type": "code",
   "execution_count": 6,
   "id": "30682c50-b3ea-4692-9569-80cf7db2d087",
   "metadata": {},
   "outputs": [
    {
     "name": "stdout",
     "output_type": "stream",
     "text": [
      "It feels -2.8699999999999974 degrees warmer\n"
     ]
    }
   ],
   "source": [
    "#data.keys()\n",
    "#data['data']\n",
    "current_temp = data['data']['values']['temperature']\n",
    "feelslike_temp = data['data']['values']['temperatureApparent']\n",
    "if current_temp > feelslike_temp:\n",
    "    print(f\"It feels {current_temp - feelslike_temp} degrees colder\")\n",
    "elif current_temp < feelslike_temp:\n",
    "    print(f\"It feels {current_temp - feelslike_temp} degrees warmer\")\n",
    "else:\n",
    "    print(f\"It feels the same\")"
   ]
  },
  {
   "cell_type": "markdown",
   "id": "20f73fbc-5001-458a-b0fe-1ad8da6670e3",
   "metadata": {},
   "source": [
    "What's the current temperature at Heathrow International Airport? Use the airport's IATA code to search."
   ]
  },
  {
   "cell_type": "code",
   "execution_count": 7,
   "id": "73e44798-3567-4f57-9f4e-e2b71497de0d",
   "metadata": {},
   "outputs": [
    {
     "name": "stdout",
     "output_type": "stream",
     "text": [
      "The current temperature at Heathrow International Airport is 28.69 degress\n"
     ]
    }
   ],
   "source": [
    "#url = \"https://api.tomorrow.io/v4/weather/realtime?location=TW6&apikey=tXlRwvFfq172RPH5OaZGVaaPQWw0uea6\" \n",
    "#source for heathrow intl airport zipcode: https://www.military-airshows.co.uk/airports/heathrow-airport.htm#:~:text=Getting%20to%20London%20Heathrow%20Airport&text=Sat%20Nav%20postcodes%20are%20as,Terminal%205%20(TW6%202GA).\n",
    "\n",
    "#response = requests.get(url, headers=headers)\n",
    "#print(response.text)\n",
    "#data = response.json()\n",
    "#data\n",
    "\n",
    "current_temp_lhr = data['data']['values']['temperature']\n",
    "print(f\"The current temperature at Heathrow International Airport is {current_temp_lhr} degress\")\n"
   ]
  },
  {
   "cell_type": "markdown",
   "id": "08b06cb6-c569-436d-bdd9-4a5ab066ae3b",
   "metadata": {},
   "source": [
    "What URL would I use to request a 3-day forecast at Heathrow?"
   ]
  },
  {
   "cell_type": "code",
   "execution_count": 12,
   "id": "9ba12945-5a19-4df3-8bcf-38a83603d184",
   "metadata": {},
   "outputs": [
    {
     "data": {
      "text/plain": [
       "{'data': {'timelines': [{'timestep': '1d',\n",
       "    'endTime': '2024-11-12T06:00:00Z',\n",
       "    'startTime': '2024-11-09T06:00:00Z',\n",
       "    'intervals': [{'startTime': '2024-11-09T06:00:00Z',\n",
       "      'values': {'temperature': 9.31}},\n",
       "     {'startTime': '2024-11-10T06:00:00Z', 'values': {'temperature': 11.86}},\n",
       "     {'startTime': '2024-11-11T06:00:00Z', 'values': {'temperature': 11.36}},\n",
       "     {'startTime': '2024-11-12T06:00:00Z',\n",
       "      'values': {'temperature': 11.68}}]}]}}"
      ]
     },
     "execution_count": 12,
     "metadata": {},
     "output_type": "execute_result"
    }
   ],
   "source": [
    "url = \"https://api.tomorrow.io/v4/timelines?location=TW6&fields=temperature&timesteps=1d&startTime=2024-11-10T00:00:00Z&endTime=2024-11-12T00:00:00Z&apikey=tXlRwvFfq172RPH5OaZGVaaPQWw0uea6\"\n",
    "response = requests.get(url)\n",
    "response\n",
    "data = response.json()\n",
    "data"
   ]
  },
  {
   "cell_type": "markdown",
   "id": "c46d3d25-e776-46e2-9a54-b41aa4738c94",
   "metadata": {},
   "source": [
    "Print the date of each of the 3 days you're getting a forecast for."
   ]
  },
  {
   "cell_type": "code",
   "execution_count": 13,
   "id": "a3039435-d201-4aec-bc1e-8a20b93e7dc9",
   "metadata": {},
   "outputs": [
    {
     "name": "stdout",
     "output_type": "stream",
     "text": [
      "2024-11-09T06:00:00Z\n",
      "2024-11-10T06:00:00Z\n",
      "2024-11-11T06:00:00Z\n",
      "2024-11-12T06:00:00Z\n"
     ]
    }
   ],
   "source": [
    "#data.keys()\n",
    "\n",
    "#[print(interval['startTime']) for timeline in data['data']['timelines'] for interval in timeline['intervals']]\n",
    "for timeline in data['data']['timelines']:\n",
    "    for interval in timeline['intervals']:\n",
    "     print(interval['startTime'])"
   ]
  },
  {
   "cell_type": "markdown",
   "id": "78fa2472-6f79-45a0-8ec0-687a694468ee",
   "metadata": {},
   "source": [
    "Print the maximum temperature of each of the days."
   ]
  },
  {
   "cell_type": "code",
   "execution_count": 14,
   "id": "f3a4853e-2dc6-443f-bc49-94d0b406afbd",
   "metadata": {},
   "outputs": [
    {
     "data": {
      "text/plain": [
       "{'data': {'timelines': [{'timestep': '1d',\n",
       "    'endTime': '2024-11-12T06:00:00Z',\n",
       "    'startTime': '2024-11-09T06:00:00Z',\n",
       "    'intervals': [{'startTime': '2024-11-09T06:00:00Z',\n",
       "      'values': {'temperatureMax': 9.31}},\n",
       "     {'startTime': '2024-11-10T06:00:00Z',\n",
       "      'values': {'temperatureMax': 11.86}},\n",
       "     {'startTime': '2024-11-11T06:00:00Z',\n",
       "      'values': {'temperatureMax': 11.36}},\n",
       "     {'startTime': '2024-11-12T06:00:00Z',\n",
       "      'values': {'temperatureMax': 11.68}}]}]}}"
      ]
     },
     "execution_count": 14,
     "metadata": {},
     "output_type": "execute_result"
    }
   ],
   "source": [
    "import requests\n",
    "url = \"https://api.tomorrow.io/v4/timelines?location=TW6&fields=temperatureMax&timesteps=1d&startTime=2024-11-10T00:00:00Z&endTime=2024-11-12T00:00:00Z&apikey=tXlRwvFfq172RPH5OaZGVaaPQWw0uea6\"\n",
    "response = requests.get(url)\n",
    "response\n",
    "weather = response.json()\n",
    "weather"
   ]
  },
  {
   "cell_type": "code",
   "execution_count": 15,
   "id": "51dfe33a-9c0e-4d03-80fe-2f6a0d9d782b",
   "metadata": {},
   "outputs": [
    {
     "name": "stdout",
     "output_type": "stream",
     "text": [
      "{'timestep': '1d', 'endTime': '2024-11-12T06:00:00Z', 'startTime': '2024-11-09T06:00:00Z', 'intervals': [{'startTime': '2024-11-09T06:00:00Z', 'values': {'temperatureMax': 9.31}}, {'startTime': '2024-11-10T06:00:00Z', 'values': {'temperatureMax': 11.86}}, {'startTime': '2024-11-11T06:00:00Z', 'values': {'temperatureMax': 11.36}}, {'startTime': '2024-11-12T06:00:00Z', 'values': {'temperatureMax': 11.68}}]}\n"
     ]
    }
   ],
   "source": [
    "for max_temp in weather['data']['timelines']:\n",
    "    print(max_temp)"
   ]
  },
  {
   "cell_type": "code",
   "execution_count": 16,
   "id": "e335b0e3-53b5-4009-93f6-e60a1dffe235",
   "metadata": {},
   "outputs": [
    {
     "name": "stdout",
     "output_type": "stream",
     "text": [
      "9.31\n",
      "11.86\n",
      "11.36\n",
      "11.68\n"
     ]
    }
   ],
   "source": [
    "for final_max_temp in max_temp['intervals']:\n",
    "    print(final_max_temp['values']['temperatureMax'])"
   ]
  },
  {
   "cell_type": "markdown",
   "id": "f8466ae4-e110-436c-9d3a-beeb5b9abc4c",
   "metadata": {},
   "source": [
    "Print only the day with the highest maximum temperature."
   ]
  },
  {
   "cell_type": "code",
   "execution_count": 17,
   "id": "d259aecc-ebc2-423b-91ae-c892669237d6",
   "metadata": {},
   "outputs": [
    {
     "data": {
      "text/plain": [
       "{'timestep': '1d',\n",
       " 'endTime': '2024-11-12T06:00:00Z',\n",
       " 'startTime': '2024-11-09T06:00:00Z',\n",
       " 'intervals': [{'startTime': '2024-11-09T06:00:00Z',\n",
       "   'values': {'temperatureMax': 9.31}},\n",
       "  {'startTime': '2024-11-10T06:00:00Z', 'values': {'temperatureMax': 11.86}},\n",
       "  {'startTime': '2024-11-11T06:00:00Z', 'values': {'temperatureMax': 11.36}},\n",
       "  {'startTime': '2024-11-12T06:00:00Z', 'values': {'temperatureMax': 11.68}}]}"
      ]
     },
     "execution_count": 17,
     "metadata": {},
     "output_type": "execute_result"
    }
   ],
   "source": [
    "max_temp"
   ]
  },
  {
   "cell_type": "code",
   "execution_count": 21,
   "id": "03a21fad-b8f3-4583-b105-cc874340080c",
   "metadata": {},
   "outputs": [
    {
     "name": "stdout",
     "output_type": "stream",
     "text": [
      "The highest temperature is 11.86\n"
     ]
    }
   ],
   "source": [
    "for final_max_temp in max_temp['intervals']:\n",
    "    if final_max_temp['values']['temperatureMax'] > 11.68: #not sure if this was the right way to do it, the TA asked me to do it like this\n",
    "        print(f\"The highest temperature is {final_max_temp['values']['temperatureMax']}\")"
   ]
  },
  {
   "cell_type": "code",
   "execution_count": null,
   "id": "efb65793-40f1-4ee8-b1a4-25b2f41d67fe",
   "metadata": {},
   "outputs": [],
   "source": []
  }
 ],
 "metadata": {
  "kernelspec": {
   "display_name": "Python 3 (ipykernel)",
   "language": "python",
   "name": "python3"
  },
  "language_info": {
   "codemirror_mode": {
    "name": "ipython",
    "version": 3
   },
   "file_extension": ".py",
   "mimetype": "text/x-python",
   "name": "python",
   "nbconvert_exporter": "python",
   "pygments_lexer": "ipython3",
   "version": "3.12.7"
  }
 },
 "nbformat": 4,
 "nbformat_minor": 5
}
