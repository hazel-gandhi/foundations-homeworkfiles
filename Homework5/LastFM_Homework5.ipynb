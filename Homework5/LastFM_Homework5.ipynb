{
 "cells": [
  {
   "cell_type": "code",
   "execution_count": 4,
   "id": "48f31373-a8b9-40b1-acad-b2bcc49a90e0",
   "metadata": {},
   "outputs": [
    {
     "data": {
      "text/plain": [
       "<Response [200]>"
      ]
     },
     "execution_count": 4,
     "metadata": {},
     "output_type": "execute_result"
    }
   ],
   "source": [
    "import requests\n",
    "url = \" http://ws.audioscrobbler.com/2.0/?method=artist.getinfo&artist=lil&api_key=a36a5fcab3f99325679871fc2061f3fb&format=json\"\n",
    "response = requests.get(url)\n",
    "response"
   ]
  },
  {
   "cell_type": "code",
   "execution_count": 6,
   "id": "8b3d3ee5-9a5f-4010-bb59-d3cb4793eadc",
   "metadata": {},
   "outputs": [
    {
     "data": {
      "text/plain": [
       "{'artist': {'name': 'LiL',\n",
       "  'mbid': '521b0178-1aaf-4ed5-960d-3688fbda3d63',\n",
       "  'url': 'https://www.last.fm/music/LiL',\n",
       "  'image': [{'#text': 'https://lastfm.freetls.fastly.net/i/u/34s/2a96cbd8b46e442fc41c2b86b821562f.png',\n",
       "    'size': 'small'},\n",
       "   {'#text': 'https://lastfm.freetls.fastly.net/i/u/64s/2a96cbd8b46e442fc41c2b86b821562f.png',\n",
       "    'size': 'medium'},\n",
       "   {'#text': 'https://lastfm.freetls.fastly.net/i/u/174s/2a96cbd8b46e442fc41c2b86b821562f.png',\n",
       "    'size': 'large'},\n",
       "   {'#text': 'https://lastfm.freetls.fastly.net/i/u/300x300/2a96cbd8b46e442fc41c2b86b821562f.png',\n",
       "    'size': 'extralarge'},\n",
       "   {'#text': 'https://lastfm.freetls.fastly.net/i/u/300x300/2a96cbd8b46e442fc41c2b86b821562f.png',\n",
       "    'size': 'mega'},\n",
       "   {'#text': 'https://lastfm.freetls.fastly.net/i/u/300x300/2a96cbd8b46e442fc41c2b86b821562f.png',\n",
       "    'size': ''}],\n",
       "  'streamable': '0',\n",
       "  'ontour': '0',\n",
       "  'stats': {'listeners': '9953', 'playcount': '166916'},\n",
       "  'similar': {'artist': []},\n",
       "  'tags': {'tag': [{'name': 'electronic',\n",
       "     'url': 'https://www.last.fm/tag/electronic'},\n",
       "    {'name': 'japanese', 'url': 'https://www.last.fm/tag/japanese'},\n",
       "    {'name': 'electro', 'url': 'https://www.last.fm/tag/electro'},\n",
       "    {'name': 'j-pop', 'url': 'https://www.last.fm/tag/j-pop'},\n",
       "    {'name': 'JPop', 'url': 'https://www.last.fm/tag/JPop'}]},\n",
       "  'bio': {'links': {'link': {'#text': '',\n",
       "     'rel': 'original',\n",
       "     'href': 'https://last.fm/music/LiL/+wiki'}},\n",
       "   'published': '02 Mar 2006, 07:38',\n",
       "   'summary': '3 artists go under the name LIL:\\n\\n1) LIL was a Japanese electronica duo composed of vocalist ucio & producer TSUGE.  In April 2009, their first single \"me, too\" was released on the iTunes and found a spot on the electronic chart.  \"LESSON ONE\" also charted. \\n\\nLIL, with ucio\\'s powerful singing and overwhelming control of an octave vocal range, initially infused elements of rock, funk, acid jazz and house.  Constantly evolving, LIL used more House, Electro, New Wave and dance influences, coming up with an original sound. <a href=\"https://www.last.fm/music/LiL\">Read more on Last.fm</a>',\n",
       "   'content': '3 artists go under the name LIL:\\n\\n1) LIL was a Japanese electronica duo composed of vocalist ucio & producer TSUGE.  In April 2009, their first single \"me, too\" was released on the iTunes and found a spot on the electronic chart.  \"LESSON ONE\" also charted. \\n\\nLIL, with ucio\\'s powerful singing and overwhelming control of an octave vocal range, initially infused elements of rock, funk, acid jazz and house.  Constantly evolving, LIL used more House, Electro, New Wave and dance influences, coming up with an original sound.\\n\\nTheir debut album, LIPS IN LUSH, was released on March 2010.\\nTheir second album, Synchronize, was released on February 2011.\\nTheir third album, L2, was released in 2012.\\n\\nThey disbanded in 2013.\\n\\nOfficial website:\\nhttp://www.artimage.co.jp/artists/lil/\\n\\n2) LiL is a Lithuanian underground hip-hop artist from Vilnius.\\n\\n3) LIL was a Turkish melodic metal band. <a href=\"https://www.last.fm/music/LiL\">Read more on Last.fm</a>. User-contributed text is available under the Creative Commons By-SA License; additional terms may apply.'}}}"
      ]
     },
     "execution_count": 6,
     "metadata": {},
     "output_type": "execute_result"
    }
   ],
   "source": [
    "data = response.json()\n",
    "data"
   ]
  },
  {
   "cell_type": "code",
   "execution_count": 7,
   "id": "05c2b1c9-a270-45d4-80a1-3f7837f4988b",
   "metadata": {},
   "outputs": [
    {
     "data": {
      "text/plain": [
       "'LiL'"
      ]
     },
     "execution_count": 7,
     "metadata": {},
     "output_type": "execute_result"
    }
   ],
   "source": [
    "data['artist']['name']"
   ]
  },
  {
   "cell_type": "code",
   "execution_count": null,
   "id": "edf64ce0-3aac-4f57-8463-f1487843d082",
   "metadata": {},
   "outputs": [],
   "source": []
  }
 ],
 "metadata": {
  "kernelspec": {
   "display_name": "Python 3 (ipykernel)",
   "language": "python",
   "name": "python3"
  },
  "language_info": {
   "codemirror_mode": {
    "name": "ipython",
    "version": 3
   },
   "file_extension": ".py",
   "mimetype": "text/x-python",
   "name": "python",
   "nbconvert_exporter": "python",
   "pygments_lexer": "ipython3",
   "version": "3.12.7"
  }
 },
 "nbformat": 4,
 "nbformat_minor": 5
}
